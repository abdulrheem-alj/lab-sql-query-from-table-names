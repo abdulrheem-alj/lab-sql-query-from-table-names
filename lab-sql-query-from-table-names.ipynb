{
 "cells": [
  {
   "cell_type": "markdown",
   "id": "00a57394-53dd-47cd-a5e7-6e7122bbb0f6",
   "metadata": {},
   "source": [
    "# SQL query from table names"
   ]
  },
  {
   "cell_type": "markdown",
   "id": "86bc2813-763c-49f2-9f5d-e1f87a20556f",
   "metadata": {
    "id": "86bc2813-763c-49f2-9f5d-e1f87a20556f"
   },
   "source": [
    "In This notebook we are going to test if using just the name of the table, and a shord definition of its contect we can use a model like GTP3.5-Turbo to select which tables are necessary to create a SQL Order to answer the user petition."
   ]
  },
  {
   "cell_type": "code",
   "execution_count": 6,
   "id": "7fbbdf5b-4d7f-4496-8f40-9d15ea46d023",
   "metadata": {
    "id": "7fbbdf5b-4d7f-4496-8f40-9d15ea46d023"
   },
   "outputs": [],
   "source": [
    "from openai import OpenAI\n",
    "import os\n",
    "from dotenv import load_dotenv, find_dotenv\n",
    "_ = load_dotenv(find_dotenv())\n",
    "\n",
    "OPENAI_API_KEY  = os.getenv('OPENAI_API_KEY')"
   ]
  },
  {
   "cell_type": "code",
   "execution_count": 7,
   "id": "e480bbfb-9a80-4ea6-b792-067e63ae3148",
   "metadata": {
    "id": "e480bbfb-9a80-4ea6-b792-067e63ae3148"
   },
   "outputs": [],
   "source": [
    "#Functio to call the model.\n",
    "def return_OAI(user_message):\n",
    "    client = OpenAI(\n",
    "    # This is the default and can be omitted\n",
    "    api_key=OPENAI_API_KEY,\n",
    ")\n",
    "    context = []\n",
    "    context.append({'role':'system', \"content\": user_message})\n",
    "\n",
    "    response = client.chat.completions.create(\n",
    "            model=\"gpt-3.5-turbo\",\n",
    "            messages=context,\n",
    "            temperature=0,\n",
    "        )\n",
    "\n",
    "    return (response.choices[0].message.content)"
   ]
  },
  {
   "cell_type": "code",
   "execution_count": 8,
   "id": "6d5d2bdc-d822-4ed8-815e-b3f223730f15",
   "metadata": {
    "id": "6d5d2bdc-d822-4ed8-815e-b3f223730f15",
    "outputId": "61068bf0-41e3-40d9-b453-b76da5b0f086"
   },
   "outputs": [
    {
     "name": "stdout",
     "output_type": "stream",
     "text": [
      "{\n",
      "    \"tables\": {\n",
      "        \"employees\": \"Employee information\",\n",
      "        \"salary\": \"Salary details for each year\",\n",
      "        \"studies\": \"Educational studies\"\n",
      "    }\n",
      "}\n"
     ]
    }
   ],
   "source": [
    "import pandas as pd\n",
    "import json\n",
    "\n",
    "# Step 1: Define the data for the tables and their definitions\n",
    "data = {\n",
    "    'table': ['employees', 'salary', 'studies'],\n",
    "    'definition': [\n",
    "        'Employee information',\n",
    "        'Salary details for each year',\n",
    "        'Educational studies'\n",
    "    ]\n",
    "}\n",
    "\n",
    "# Step 2: Create the DataFrame\n",
    "df = pd.DataFrame(data)\n",
    "\n",
    "# Step 3: Create a dictionary from the DataFrame for JSON output\n",
    "tables_dict = {row['table']: row['definition'] for index, row in df.iterrows()}\n",
    "\n",
    "# Step 4: Convert the dictionary to a JSON string\n",
    "tables_json = json.dumps({\"tables\": tables_dict}, indent=4)\n",
    "\n",
    "# Step 5: Print the JSON output\n",
    "print(tables_json)"
   ]
  },
  {
   "cell_type": "code",
   "execution_count": 9,
   "id": "009e681c-d95d-4c9c-b044-5bfd76e3ad95",
   "metadata": {
    "id": "009e681c-d95d-4c9c-b044-5bfd76e3ad95"
   },
   "outputs": [],
   "source": [
    "import json\n",
    "\n",
    "text_tables = '\\n'.join([f\"{row['table']}: {row['definition']}\" for index, row in df.iterrows()])\n",
    "tables_json = json.dumps({\"tables\": text_tables}, indent=4)\n"
   ]
  },
  {
   "cell_type": "code",
   "execution_count": 10,
   "id": "fe03ac25-8d02-4cd1-99a1-be4220c6fd2d",
   "metadata": {
    "id": "fe03ac25-8d02-4cd1-99a1-be4220c6fd2d",
    "outputId": "c1f3aab1-5f26-48fe-fcf9-3780120f5aad"
   },
   "outputs": [
    {
     "name": "stdout",
     "output_type": "stream",
     "text": [
      "employees: Employee information\n",
      "salary: Salary details for each year\n",
      "studies: Educational studies\n"
     ]
    }
   ],
   "source": [
    "print(text_tables)"
   ]
  },
  {
   "cell_type": "code",
   "execution_count": 11,
   "id": "c7e275ae-f20d-4134-b9b6-d8677dfb544c",
   "metadata": {
    "id": "c7e275ae-f20d-4134-b9b6-d8677dfb544c"
   },
   "outputs": [
    {
     "name": "stdout",
     "output_type": "stream",
     "text": [
      "\n",
      "Given the following tables and their content definitions,\n",
      "### Tables\n",
      "{'employees': 'Employee information', 'salary': 'Salary details for each year', 'studies': 'Educational studies'}\n",
      "\n",
      "Tell me which tables would be necessary to query with SQL to address the user's question below.\n",
      "Return the table names in a JSON format.\n",
      "### User Question:\n",
      "What information do we have about employee salaries?\n",
      "\n"
     ]
    }
   ],
   "source": [
    "user_question = \"What information do we have about employee salaries?\"\n",
    "\n",
    "# Step 6: Define the prompt using the formatted tables JSON and user question\n",
    "prompt_question_tables = \"\"\"\n",
    "Given the following tables and their content definitions,\n",
    "### Tables\n",
    "{tables}\n",
    "\n",
    "Tell me which tables would be necessary to query with SQL to address the user's question below.\n",
    "Return the table names in a JSON format.\n",
    "### User Question:\n",
    "{question}\n",
    "\"\"\"\n",
    "\n",
    "# Step 7: Format the prompt with the tables JSON and user question\n",
    "formatted_prompt = prompt_question_tables.format(tables=tables_dict, question=user_question)\n",
    "\n",
    "# Step 8: Print the formatted prompt\n",
    "print(formatted_prompt)"
   ]
  },
  {
   "cell_type": "code",
   "execution_count": 12,
   "id": "b1cb5957-2df2-4e5e-9e6a-ace955c9817e",
   "metadata": {
    "id": "b1cb5957-2df2-4e5e-9e6a-ace955c9817e"
   },
   "outputs": [],
   "source": [
    "#Creating the prompt, with the user questions and the tables definitions.\n",
    "pqt1 = prompt_question_tables.format(tables=tables_dict, question=user_question)"
   ]
  },
  {
   "cell_type": "code",
   "execution_count": 13,
   "id": "10d30f2b-6c23-4fd6-8038-840fba784cce",
   "metadata": {
    "id": "10d30f2b-6c23-4fd6-8038-840fba784cce",
    "outputId": "9924022c-7b2b-4ec8-e2c2-75bc1c745151",
    "scrolled": true
   },
   "outputs": [
    {
     "name": "stdout",
     "output_type": "stream",
     "text": [
      "```json\n",
      "[\"employees\", \"salary\"]\n",
      "```\n"
     ]
    }
   ],
   "source": [
    "print(return_OAI(pqt1))"
   ]
  },
  {
   "cell_type": "code",
   "execution_count": 14,
   "id": "57e07083-be8f-4cd0-95bd-c4b909422c6b",
   "metadata": {
    "id": "57e07083-be8f-4cd0-95bd-c4b909422c6b"
   },
   "outputs": [],
   "source": [
    "pqt3 = prompt_question_tables.format(tables=tables_json, question=user_question)\n"
   ]
  },
  {
   "cell_type": "code",
   "execution_count": 15,
   "id": "a0eeb79e-caf1-4f48-9897-168d95d2ae37",
   "metadata": {
    "id": "a0eeb79e-caf1-4f48-9897-168d95d2ae37",
    "outputId": "81d77115-9cad-4284-a228-5368bb9aa6fb"
   },
   "outputs": [
    {
     "name": "stdout",
     "output_type": "stream",
     "text": [
      "```json\n",
      "{\n",
      "    \"tables\": [\"employees\", \"salary\"]\n",
      "}\n",
      "```\n"
     ]
    }
   ],
   "source": [
    "print(return_OAI(pqt3))"
   ]
  },
  {
   "cell_type": "markdown",
   "id": "321bb9a2-4937-4e9a-a31b-7049cb8f5aa3",
   "metadata": {
    "id": "321bb9a2-4937-4e9a-a31b-7049cb8f5aa3"
   },
   "source": [
    "# Exercise\n",
    " - Complete the prompts similar to what we did in class. \n",
    "     - Try a few versions if you have time\n",
    "     - Be creative\n",
    " - Write a one page report summarizing your findings.\n",
    "     - Were there variations that didn't work well? i.e., where GPT either hallucinated or wrong\n",
    " - What did you learn?"
   ]
  },
  {
   "cell_type": "markdown",
   "id": "064a77fd",
   "metadata": {},
   "source": [
    "# version"
   ]
  },
  {
   "cell_type": "code",
   "execution_count": 16,
   "id": "e23152c2",
   "metadata": {},
   "outputs": [
    {
     "name": "stdout",
     "output_type": "stream",
     "text": [
      "{\n",
      "    \"tables\": {\n",
      "        \"FIFA\": \"A popular football simulation game\",\n",
      "        \"Super Mario Bros\": \"A classic platformer featuring Mario\",\n",
      "        \"Minecraft\": \"A sandbox game that allows for creativity and exploration\"\n",
      "    }\n",
      "}\n"
     ]
    }
   ],
   "source": [
    "\n",
    "\n",
    "data = {\n",
    "    'table': ['FIFA', 'Super Mario Bros', 'Minecraft'],\n",
    "    'definition': [\n",
    "        'A popular football simulation game',\n",
    "        'A classic platformer featuring Mario',\n",
    "        'A sandbox game that allows for creativity and exploration'\n",
    "    ],\n",
    "    'price': [\n",
    "        '$59.99',\n",
    "        '$49.99',\n",
    "        '$29.99'\n",
    "    ],\n",
    "    'type': [\n",
    "        'Sports',\n",
    "        'Platformer',\n",
    "        'Sandbox'\n",
    "    ]\n",
    "}\n",
    "\n",
    "df = pd.DataFrame(data)\n",
    "\n",
    "tables_dict = {row['table']: row['definition'] for index, row in df.iterrows()}\n",
    "\n",
    "tables_json = json.dumps({\"tables\": tables_dict}, indent=4)\n",
    "\n",
    "print(tables_json)"
   ]
  },
  {
   "cell_type": "code",
   "execution_count": 17,
   "id": "c4401931",
   "metadata": {},
   "outputs": [
    {
     "name": "stdout",
     "output_type": "stream",
     "text": [
      "\n",
      "Given the following tables and their content definitions,\n",
      "### Tables\n",
      "{'FIFA': 'A popular football simulation game', 'Super Mario Bros': 'A classic platformer featuring Mario', 'Minecraft': 'A sandbox game that allows for creativity and exploration'}\n",
      "\n",
      "Tell me which tables would be necessary to query with SQL to address the user's question below.\n",
      "Return the table names in a JSON format.\n",
      "### User Question:\n",
      "What information do we have about the games, their price and type?\n",
      "\n"
     ]
    }
   ],
   "source": [
    "\n",
    "user_question = \"What information do we have about the games, their price and type?\"\n",
    "\n",
    "prompt_question_tables = \"\"\"\n",
    "Given the following tables and their content definitions,\n",
    "### Tables\n",
    "{tables}\n",
    "\n",
    "Tell me which tables would be necessary to query with SQL to address the user's question below.\n",
    "Return the table names in a JSON format.\n",
    "### User Question:\n",
    "{question}\n",
    "\"\"\"\n",
    "\n",
    "formatted_prompt = prompt_question_tables.format(tables=tables_dict, question=user_question)\n",
    "\n",
    "print(formatted_prompt)"
   ]
  },
  {
   "cell_type": "code",
   "execution_count": 18,
   "id": "d58109c5",
   "metadata": {},
   "outputs": [],
   "source": [
    "pqt1 = prompt_question_tables.format(tables=tables_dict, question=user_question)"
   ]
  },
  {
   "cell_type": "code",
   "execution_count": 19,
   "id": "54313bbe",
   "metadata": {},
   "outputs": [],
   "source": [
    "pqt3 = prompt_question_tables.format(tables=tables_json, question=user_question)\n"
   ]
  },
  {
   "cell_type": "code",
   "execution_count": 20,
   "id": "ee87f70b",
   "metadata": {},
   "outputs": [
    {
     "name": "stdout",
     "output_type": "stream",
     "text": [
      "```json\n",
      "[\"Games\"]\n",
      "```\n",
      "{\n",
      "    \"tables\": {\n",
      "        \"FIFA\": \"A popular football simulation game\",\n",
      "        \"Super Mario Bros\": \"A classic platformer featuring Mario\"\n",
      "    }\n",
      "}\n"
     ]
    }
   ],
   "source": [
    "print(return_OAI(pqt1))\n",
    "print(return_OAI(pqt3))"
   ]
  },
  {
   "cell_type": "markdown",
   "id": "6b62a9d5",
   "metadata": {},
   "source": [
    "# ---------------------------------------------------------------------------------------------\n",
    "\n",
    "# Report\n",
    "\n",
    "## Data Structure \n",
    "\n",
    "### Employees\n",
    "- **Data Attributes**:\n",
    "- Employees\n",
    "- Salaries\n",
    "- Education\n",
    "\n",
    "### Video Games\n",
    "- **Data Attributes**:\n",
    "- Game Titles\n",
    "- Prices\n",
    "- Types\n",
    "\n",
    "## Successes\n",
    "### Employees\n",
    "- **Clarity**: The employee data structure provides a clear understanding of roles and compensation, facilitating HR management.\n",
    "- **Ease of Use**: Employee data can be easily integrated into HR systems to track performance, salary adjustments, and training needs.\n",
    "\n",
    "### Video Games\n",
    "- **Interactivity**: The video game data structure effectively engages gamers by providing relevant information about game choices, improving decision-making.\n",
    "- **Structured Information**: The structured format allows for easy integration with gaming platforms, facilitating user interaction and game selection.\n",
    "\n",
    "## Disadvantages\n",
    "### Employees\n",
    "- **Complexity**: Including multiple attributes (such as education and roles) can complicate employee performance analysis or decision-making. - **Data Sensitivity**: Employee information is sensitive and must be handled carefully to ensure privacy.\n",
    "\n",
    "###Video Games\n",
    "- **Subjectivity**: Game descriptions can vary greatly in quality, leading to potential inconsistencies in how players perceive games.\n",
    "- **Limited Context**: Video game data may lack depth regarding the player experience, as attributes focus primarily on core gameplay elements.\n",
    "\n",
    "# Conclusion\n",
    "A comparison of employee data and video game data highlights significant differences in structure and purpose. Employee data primarily focuses on roles and compensation, while video game data focuses on interaction and user experience. Both structures have strengths and weaknesses; employee data is clear and easy to use for HR purposes, while video game data enhances player engagement but can suffer from subjectivity and limited context. Understanding these differences is critical to effective HR management and developing engaging gaming experiences. Future efforts should focus on improving data attributes in both contexts to improve usability and relevance."
   ]
  }
 ],
 "metadata": {
  "colab": {
   "include_colab_link": true,
   "provenance": []
  },
  "kernelspec": {
   "display_name": "Python 3",
   "language": "python",
   "name": "python3"
  },
  "language_info": {
   "codemirror_mode": {
    "name": "ipython",
    "version": 3
   },
   "file_extension": ".py",
   "mimetype": "text/x-python",
   "name": "python",
   "nbconvert_exporter": "python",
   "pygments_lexer": "ipython3",
   "version": "3.11.4"
  }
 },
 "nbformat": 4,
 "nbformat_minor": 5
}
